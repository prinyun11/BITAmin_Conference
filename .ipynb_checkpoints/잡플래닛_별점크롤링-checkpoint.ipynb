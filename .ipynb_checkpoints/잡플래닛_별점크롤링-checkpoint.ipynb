{
 "cells": [
  {
   "cell_type": "code",
   "execution_count": 11,
   "metadata": {},
   "outputs": [],
   "source": [
    "from bs4 import BeautifulSoup\n",
    "from selenium import webdriver\n",
    "from selenium.webdriver.common.keys import Keys\n",
    "import time\n",
    "import pandas as pd\n",
    "\n",
    "# step2.로그인 정보 및 검색할 회사 미리 정의, 해당 회사의 리뷰 끝 페이지도 정의\n",
    "usr = \"\"\n",
    "pwd = \"\"\n",
    "\n",
    "\n",
    "# step3.크롬드라이버 실행 및 잡플래닛 로그인\n",
    "\n",
    "driver=webdriver.Chrome('driver/chromedriver')\n",
    "\n",
    "driver.get(\"https://www.jobplanet.co.kr\") #https://www.jobplanet.co.kr/companies?&\n",
    "time.sleep(3)\n",
    "login=driver.find_element_by_css_selector(\"body > div.body_wrap > div.globalHeaderWrap > header > div.right_box > div.login_before.show > a.btn_txt.login > span\")\n",
    "login.click()\n",
    "\n",
    "login_id = driver.find_element_by_css_selector(\"input#user_email\")\n",
    "login_id.send_keys(usr)\n",
    "\n",
    "login_pwd = driver.find_element_by_css_selector(\"input#user_password\")\n",
    "\n",
    "login_pwd.send_keys(pwd)\n",
    "\n",
    "login_id.send_keys(Keys.RETURN)\n",
    "time.sleep(3)\n",
    "\n",
    "\n",
    "rank=driver.find_element_by_css_selector(\"body > div.body_wrap > div.globalHeaderWrap > header > nav > ul > li.companies.btn_global_header > a\")\n",
    "rank.click()\n",
    "time.sleep(3)\n",
    "\n",
    "rank2=driver.find_element_by_css_selector(\"body > div.body_wrap > div.globalHeaderWrap > header > div.global_header_modal.global_header_open > div.header_modal_wrap > div > div.header_modal_left > div.modal_left_top > div > a\")\n",
    "rank2.click()\n",
    "time.sleep(5)\n",
    "\n",
    "#currnet_url = driver.current_url\n",
    "\n"
   ]
  },
  {
   "cell_type": "code",
   "execution_count": 13,
   "metadata": {},
   "outputs": [
    {
     "name": "stdout",
     "output_type": "stream",
     "text": [
      "1 번째 성공\n",
      "2 번째 성공\n",
      "3 번째 성공\n",
      "4 번째 성공\n",
      "5 번째 성공\n",
      "1 번째 성공\n",
      "2 번째 성공\n",
      "3 번째 성공\n"
     ]
    }
   ],
   "source": [
    "list_industry = []\n",
    "list_company = []\n",
    "list_stars = []\n",
    "list_label = []\n",
    "list_score = []\n",
    "list_label2 = []\n",
    "list_score2 = []\n",
    "for i in range(1, 2):\n",
    "    industry = driver.find_element_by_css_selector(\"#navIndustry > ul > li:nth-child({}) > a\".format(i))\n",
    "    list_industry.append(industry.text)\n",
    "    industry.click()\n",
    "    time.sleep(3)\n",
    "    \n",
    "    for j in range(1, 2):\n",
    "        company = driver.find_element_by_css_selector('#listCompanies > div > div.section_group > section:nth-child({}) > div > div > dl.content_col2_3.cominfo > dt > a'.format(j))\n",
    "        list_company.append(company.text)\n",
    "        company.click()\n",
    "        time.sleep(3)\n",
    "        \n",
    "        #premium = driver.find_element_by_css_selector('#premiumReviewChart > div > div.layer_popup_box.layer_popup_box_on > div.layer_popup.jply_modal.premium_review_inform > div > div.premium_modal_header > button')\n",
    "        #premium.click()\n",
    "        #time.sleep(1)\n",
    "        \n",
    "        star = driver.find_element_by_css_selector('#premiumReviewStatistics > div > div > div > div.stats_smr_sec.left_sec > div.rate_star_wrap.type2 > span')\n",
    "        list_stars.append(star.text)\n",
    "        \n",
    "        for num in range(1,6):\n",
    "            label = driver.find_element_by_css_selector('#premiumReviewStatistics > div > div > div > div.stats_smr_sec.left_sec > div.rate_bar_set.barfill.total > div:nth-child({}) > div > div.rate_bar_title'.format(num))\n",
    "            score = driver.find_element_by_css_selector('#premiumReviewStatistics > div > div > div > div.stats_smr_sec.left_sec > div.rate_bar_set.barfill.total > div:nth-child({}) > div > div.rate_bar_unit > span.txt_point'.format(num))\n",
    "            time.sleep(2)\n",
    "            list_label.append(label.text)\n",
    "            list_score.append(score.text)\n",
    "            print(num, '번째 성공')\n",
    "            time.sleep(3)\n",
    "\n",
    "        for num2 in range(1,4):\n",
    "            label2 = driver.find_element_by_css_selector('#premiumReviewStatistics > div > div > div > div.stats_smr_sec.right_sec.rate_pie_group.premium_total_reviews > div:nth-child({}) > div.rate_label'.format(num2))\n",
    "            score2 = driver.find_element_by_css_selector('#premiumReviewStatistics > div > div > div > div.stats_smr_sec.right_sec.rate_pie_group.premium_total_reviews > div:nth-child({}) > div.rate_pie.pie{} > span'.format(num2, num2))\n",
    "            time.sleep(2)\n",
    "            list_label2.append(label2.text)\n",
    "            list_score2.append(score2.text)\n",
    "            print(num2, '번째 성공')"
   ]
  },
  {
   "cell_type": "code",
   "execution_count": 45,
   "metadata": {
    "scrolled": true
   },
   "outputs": [],
   "source": [
    "company_df = pd.DataFrame(list_company, columns = ['회사명'])\n",
    "stars_df = pd.DataFrame(list_stars, columns = ['총점'])\n",
    "score_df = pd.DataFrame([list_score], columns = list_label)\n",
    "score2_df = pd.DataFrame([list_score2], columns = list_label2)\n",
    "\n",
    "rate_data = pd.concat([company_df, stars_df, score_df, score2_df], axis = 1)\n",
    "rate_data.set_index('회사명', inplace = True)\n",
    "\n",
    "rate_data.to_excel(\"잡플래닛 별점 통계_서비스.xls\" ,index=True)\n",
    "\n",
    "# step10.크롬 드라이버 종료\n",
    "driver.close()"
   ]
  },
  {
   "cell_type": "code",
   "execution_count": null,
   "metadata": {},
   "outputs": [],
   "source": []
  }
 ],
 "metadata": {
  "kernelspec": {
   "display_name": "Python 3",
   "language": "python",
   "name": "python3"
  },
  "language_info": {
   "codemirror_mode": {
    "name": "ipython",
    "version": 3
   },
   "file_extension": ".py",
   "mimetype": "text/x-python",
   "name": "python",
   "nbconvert_exporter": "python",
   "pygments_lexer": "ipython3",
   "version": "3.8.3"
  }
 },
 "nbformat": 4,
 "nbformat_minor": 4
}
