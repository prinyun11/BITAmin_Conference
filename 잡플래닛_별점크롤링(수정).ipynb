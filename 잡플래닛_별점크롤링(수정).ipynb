{
 "cells": [
  {
   "cell_type": "code",
   "execution_count": 57,
   "metadata": {},
   "outputs": [],
   "source": [
    "from bs4 import BeautifulSoup\n",
    "from selenium import webdriver\n",
    "from selenium.webdriver.common.keys import Keys\n",
    "import time\n",
    "import pandas as pd\n",
    "\n",
    "# step2.로그인 정보 및 검색할 회사 미리 정의, 해당 회사의 리뷰 끝 페이지도 정의\n",
    "usr = \"kdg5188@sogang.ac.kr\"\n",
    "pwd = \"ehdrms3479@\"\n",
    "\n",
    "\n",
    "# step3.크롬드라이버 실행 및 잡플래닛 로그인\n",
    "\n",
    "driver=webdriver.Chrome('chromedriver.exe')\n",
    "\n",
    "driver.get(\"https://www.jobplanet.co.kr\") #https://www.jobplanet.co.kr/companies?&\n",
    "time.sleep(3)\n",
    "login=driver.find_element_by_css_selector(\"body > div.body_wrap > div.globalHeaderWrap > header > div.right_box > div.login_before.show > a.btn_txt.login > span\")\n",
    "login.click()\n",
    "\n",
    "login_id = driver.find_element_by_css_selector(\"input#user_email\")\n",
    "login_id.send_keys(usr)\n",
    "\n",
    "login_pwd = driver.find_element_by_css_selector(\"input#user_password\")\n",
    "\n",
    "login_pwd.send_keys(pwd)\n",
    "\n",
    "login_id.send_keys(Keys.RETURN)\n",
    "time.sleep(3)\n",
    "\n",
    "\n",
    "rank=driver.find_element_by_css_selector(\"body > div.body_wrap > div.globalHeaderWrap > header > nav > ul > li.companies.btn_global_header > a\")\n",
    "rank.click()\n",
    "time.sleep(3)\n",
    "\n",
    "rank2=driver.find_element_by_css_selector(\"body > div.body_wrap > div.globalHeaderWrap > header > div.global_header_modal.global_header_open > div.header_modal_wrap > div > div.header_modal_left > div.modal_left_top > div > a\")\n",
    "rank2.click()\n",
    "time.sleep(5)\n",
    "\n",
    "currnet_url = driver.current_url\n",
    "\n"
   ]
  },
  {
   "cell_type": "code",
   "execution_count": 58,
   "metadata": {},
   "outputs": [],
   "source": [
    "rate_list=[]\n",
    "\n",
    "for i in range(2,11):\n",
    "    industry = driver.find_element_by_css_selector(\"#navIndustry > ul > li:nth-child({}) > a\".format(i))\n",
    "    industry_name=industry.text\n",
    "    industry.click()\n",
    "    time.sleep(3)\n",
    "    \n",
    "    for j in range(1, 11):\n",
    "        currnet_url1 = driver.current_url\n",
    "\n",
    "        driver.find_element_by_css_selector(\"#listCompanies > div > div.section_group > section:nth-child({}) > div > div > dl.content_col2_3.cominfo > dt > a\".format(j)).click()\n",
    "        time.sleep(10)\n",
    "        try:\n",
    "            premium = driver.find_element_by_css_selector('#premiumReviewChart > div > div.layer_popup_box.layer_popup_box_on > div.layer_popup.jply_modal.premium_review_inform > div > div.premium_modal_header > button')\n",
    "            premium.click()\n",
    "            time.sleep(5)\n",
    "        except:\n",
    "            pass\n",
    "        driver.find_element_by_css_selector('#viewCompaniesMenu > ul > li.viewReviews > a > h2').click()\n",
    "        time.sleep(10)\n",
    "        name=driver.find_element_by_css_selector(\"body > div.body_wrap > div.cmp_hd > div.new_top_bnr > div > div.top_bnr_wrap > div > div > div.company_info_sec > div.company_info_box > div.company_name > h1 > a\").text\n",
    "    #전체 리뷰 통계 텍스트\n",
    "        rate_list.append([industry_name]+[name]+[x for x in driver.find_element_by_css_selector(\"#premiumReviewStatistics > div > div > div\").text.split(\"\\n\") if re.search(\"\\d\",x)])\n",
    "        time.sleep(3)\n",
    "        driver.get(currnet_url1) \n",
    "        time.sleep(13)\n",
    "\n",
    "    driver.get(currnet_url) #https://www.jobplanet.co.kr/companies?&\n",
    "        \n",
    "    time.sleep(15)"
   ]
  },
  {
   "cell_type": "code",
   "execution_count": 59,
   "metadata": {},
   "outputs": [],
   "source": [
    "total_rate=pd.DataFrame(rate_list,columns=['산업군','회사','리뷰 개수','전체리뷰통계','복지 및 급여','업무와 삶의 균형','사내문화','승진 기회 및 가능성','경영진','기업추천율','CEO지지율','성장가능성'])"
   ]
  },
  {
   "cell_type": "code",
   "execution_count": 60,
   "metadata": {},
   "outputs": [],
   "source": [
    "total_rate.to_excel(\"서비스업 리뷰 통계 최종.xls\" ,index=True)\n"
   ]
  },
  {
   "cell_type": "code",
   "execution_count": null,
   "metadata": {},
   "outputs": [],
   "source": []
  }
 ],
 "metadata": {
  "kernelspec": {
   "display_name": "Python 3",
   "language": "python",
   "name": "python3"
  },
  "language_info": {
   "codemirror_mode": {
    "name": "ipython",
    "version": 3
   },
   "file_extension": ".py",
   "mimetype": "text/x-python",
   "name": "python",
   "nbconvert_exporter": "python",
   "pygments_lexer": "ipython3",
   "version": "3.8.3"
  }
 },
 "nbformat": 4,
 "nbformat_minor": 4
}
