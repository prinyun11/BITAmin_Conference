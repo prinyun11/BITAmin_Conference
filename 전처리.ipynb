{
 "cells": [
  {
   "cell_type": "code",
   "execution_count": 1,
   "metadata": {},
   "outputs": [],
   "source": [
    "import pandas as pd\n",
    "import numpy as np\n",
    "import matplotlib.pyplot as plt\n",
    "import seaborn as sns\n",
    "%matplotlib inline\n",
    "from konlpy.tag import Kkma, Komoran, Okt, Mecab\n",
    "from tensorflow.keras.preprocessing.text import Tokenizer\n",
    "from tensorflow.keras.preprocessing.sequence import pad_sequences\n",
    "from hanspell import spell_checker"
   ]
  },
  {
   "cell_type": "code",
   "execution_count": 9,
   "metadata": {},
   "outputs": [],
   "source": [
    "df = pd.read_excel('data/token/merged_토큰화_산업군포함_최종.xlsx')"
   ]
  },
  {
   "cell_type": "code",
   "execution_count": 7,
   "metadata": {},
   "outputs": [],
   "source": [
    "df.set_index('회사', inplace = True)"
   ]
  },
  {
   "cell_type": "code",
   "execution_count": 16,
   "metadata": {},
   "outputs": [],
   "source": [
    "df.drop(['요약토큰화', '장점토큰화', '단점토큰화', '경영진에게 바라는 점토큰화'], axis = 1, inplace = True)"
   ]
  },
  {
   "cell_type": "code",
   "execution_count": 17,
   "metadata": {},
   "outputs": [
    {
     "data": {
      "text/html": [
       "<div>\n",
       "<style scoped>\n",
       "    .dataframe tbody tr th:only-of-type {\n",
       "        vertical-align: middle;\n",
       "    }\n",
       "\n",
       "    .dataframe tbody tr th {\n",
       "        vertical-align: top;\n",
       "    }\n",
       "\n",
       "    .dataframe thead th {\n",
       "        text-align: right;\n",
       "    }\n",
       "</style>\n",
       "<table border=\"1\" class=\"dataframe\">\n",
       "  <thead>\n",
       "    <tr style=\"text-align: right;\">\n",
       "      <th></th>\n",
       "      <th>회사</th>\n",
       "      <th>날짜</th>\n",
       "      <th>산업군</th>\n",
       "      <th>직무</th>\n",
       "      <th>요약</th>\n",
       "      <th>장점</th>\n",
       "      <th>단점</th>\n",
       "      <th>경영진에게 바라는 점</th>\n",
       "    </tr>\n",
       "  </thead>\n",
       "  <tbody>\n",
       "    <tr>\n",
       "      <th>103365</th>\n",
       "      <td>(주)엘지씨엔에스</td>\n",
       "      <td>2016. 01</td>\n",
       "      <td>IT/웹/통신</td>\n",
       "      <td>IT/인터넷</td>\n",
       "      <td>신입 연봉만 높은 회사였네요     시간 근무를 당연하게 생각하는</td>\n",
       "      <td>신입 교육은 정말 맘에 들었어요  신입 연봉도 다른 기업에 비하면 높고요</td>\n",
       "      <td>야근을 너무 당연하게 생각하고 팀마다 다르지만 야근비를 잘 안 챙겨준 점 내가 왜 ...</td>\n",
       "      <td>전공 무관이지만 전공에 맞는 업무를 배정해줄 순 없었나요  나는 지방 근무를 위해 ...</td>\n",
       "    </tr>\n",
       "    <tr>\n",
       "      <th>103366</th>\n",
       "      <td>(주)엘지씨엔에스</td>\n",
       "      <td>2016. 01</td>\n",
       "      <td>IT/웹/통신</td>\n",
       "      <td>마케팅/시장조사</td>\n",
       "      <td>신입들에게는 정말 열심  일 배워 괜찮은    커리어 쌓을 수 있는 곳 경력들 중...</td>\n",
       "      <td>너무 과하지 않고 정도를 걷고 견고하게 짜여 있는 사규가 엄격하지만 그렇기 때문에 ...</td>\n",
       "      <td>일하는 사람만 엄청 일하는 회사  칼퇴근하는 사람은     이상인데 실질적인 영업이...</td>\n",
       "      <td>새로운 사업을 열심  발굴하는 사람 케어에 신경을 써주세요  열심  일만 하는 사람...</td>\n",
       "    </tr>\n",
       "    <tr>\n",
       "      <th>103367</th>\n",
       "      <td>(주)엘지씨엔에스</td>\n",
       "      <td>2016. 01</td>\n",
       "      <td>IT/웹/통신</td>\n",
       "      <td>IT/인터넷</td>\n",
       "      <td>업계의 전반적인 부진으로 인하여 설루션 사업 및 해외 사업에 대한 도전을 계속...</td>\n",
       "      <td>회사가 조금씩 기우는 느낌이 있지만 곳곳에 뛰어난 인재들이 산재해 있어서 새로운 발...</td>\n",
       "      <td>오픈마켓에 대한 시장이 점점 안 좋아지고 있어서 기업 매출이 점점 줄고 있음</td>\n",
       "      <td>신규 사업 추진을 선택적으로 선별하여 가능성 있는 소수의 사업분야에 집중 투자했으면...</td>\n",
       "    </tr>\n",
       "    <tr>\n",
       "      <th>103368</th>\n",
       "      <td>(주)엘지씨엔에스</td>\n",
       "      <td>2016. 01</td>\n",
       "      <td>IT/웹/통신</td>\n",
       "      <td>IT/인터넷</td>\n",
       "      <td>사업 영역이 넓기 때문에 매년 새로운 업무를 경험해볼 수 있음  비전공자...</td>\n",
       "      <td>프로젝트별로 사람들이 모이기 때문에 수평적인 조직 문화 형성  개인 생활을 존중하며...</td>\n",
       "      <td>프로젝트에 투입 시 업무 강도가 너무 셈  전통 사업은 기반을 잃고 있고  성...</td>\n",
       "      <td>미래 성장 사업으로 설루션 기반 사업을 추진 중인데  선택과 집중을 했으면 함  현...</td>\n",
       "    </tr>\n",
       "    <tr>\n",
       "      <th>103369</th>\n",
       "      <td>(주)엘지씨엔에스</td>\n",
       "      <td>2016. 01</td>\n",
       "      <td>IT/웹/통신</td>\n",
       "      <td>IT/인터넷</td>\n",
       "      <td>일도 많고 야근도 많지만 직장의 분위기가 인간적이고 좋음</td>\n",
       "      <td>일은 많지만 분위기는 좋다  육아휴직  휴가를 눈치 안 보고 쓸 수 있다</td>\n",
       "      <td>성과에 따른 인센티브가 거의 없다  매번 새로운 프로젝트로 투입되기 때문에 생활이 ...</td>\n",
       "      <td>야근이나 근태보다 일의 성과중심으로 평가받는 문화가 정착되기를 바란다</td>\n",
       "    </tr>\n",
       "  </tbody>\n",
       "</table>\n",
       "</div>"
      ],
      "text/plain": [
       "               회사        날짜      산업군        직무  \\\n",
       "103365  (주)엘지씨엔에스  2016. 01  IT/웹/통신    IT/인터넷   \n",
       "103366  (주)엘지씨엔에스  2016. 01  IT/웹/통신  마케팅/시장조사   \n",
       "103367  (주)엘지씨엔에스  2016. 01  IT/웹/통신    IT/인터넷   \n",
       "103368  (주)엘지씨엔에스  2016. 01  IT/웹/통신    IT/인터넷   \n",
       "103369  (주)엘지씨엔에스  2016. 01  IT/웹/통신    IT/인터넷   \n",
       "\n",
       "                                                       요약  \\\n",
       "103365              신입 연봉만 높은 회사였네요     시간 근무를 당연하게 생각하는    \n",
       "103366   신입들에게는 정말 열심  일 배워 괜찮은    커리어 쌓을 수 있는 곳 경력들 중...   \n",
       "103367     업계의 전반적인 부진으로 인하여 설루션 사업 및 해외 사업에 대한 도전을 계속...   \n",
       "103368        사업 영역이 넓기 때문에 매년 새로운 업무를 경험해볼 수 있음  비전공자...   \n",
       "103369                   일도 많고 야근도 많지만 직장의 분위기가 인간적이고 좋음    \n",
       "\n",
       "                                                       장점  \\\n",
       "103365           신입 교육은 정말 맘에 들었어요  신입 연봉도 다른 기업에 비하면 높고요   \n",
       "103366  너무 과하지 않고 정도를 걷고 견고하게 짜여 있는 사규가 엄격하지만 그렇기 때문에 ...   \n",
       "103367  회사가 조금씩 기우는 느낌이 있지만 곳곳에 뛰어난 인재들이 산재해 있어서 새로운 발...   \n",
       "103368  프로젝트별로 사람들이 모이기 때문에 수평적인 조직 문화 형성  개인 생활을 존중하며...   \n",
       "103369          일은 많지만 분위기는 좋다  육아휴직  휴가를 눈치 안 보고 쓸 수 있다    \n",
       "\n",
       "                                                       단점  \\\n",
       "103365  야근을 너무 당연하게 생각하고 팀마다 다르지만 야근비를 잘 안 챙겨준 점 내가 왜 ...   \n",
       "103366  일하는 사람만 엄청 일하는 회사  칼퇴근하는 사람은     이상인데 실질적인 영업이...   \n",
       "103367         오픈마켓에 대한 시장이 점점 안 좋아지고 있어서 기업 매출이 점점 줄고 있음   \n",
       "103368     프로젝트에 투입 시 업무 강도가 너무 셈  전통 사업은 기반을 잃고 있고  성...   \n",
       "103369  성과에 따른 인센티브가 거의 없다  매번 새로운 프로젝트로 투입되기 때문에 생활이 ...   \n",
       "\n",
       "                                              경영진에게 바라는 점  \n",
       "103365  전공 무관이지만 전공에 맞는 업무를 배정해줄 순 없었나요  나는 지방 근무를 위해 ...  \n",
       "103366  새로운 사업을 열심  발굴하는 사람 케어에 신경을 써주세요  열심  일만 하는 사람...  \n",
       "103367  신규 사업 추진을 선택적으로 선별하여 가능성 있는 소수의 사업분야에 집중 투자했으면...  \n",
       "103368  미래 성장 사업으로 설루션 기반 사업을 추진 중인데  선택과 집중을 했으면 함  현...  \n",
       "103369            야근이나 근태보다 일의 성과중심으로 평가받는 문화가 정착되기를 바란다   "
      ]
     },
     "execution_count": 17,
     "metadata": {},
     "output_type": "execute_result"
    }
   ],
   "source": [
    "df.tail()"
   ]
  },
  {
   "cell_type": "code",
   "execution_count": 2,
   "metadata": {},
   "outputs": [],
   "source": [
    "# 데이터 불러오기\n",
    "trade_df = pd.read_excel('data/spelling/유통_무역_운송_토큰화.xlsx')\n",
    "edu_df = pd.read_excel('교육업.xls')\n",
    "cons_df = pd.read_excel('건설업.xls')"
   ]
  },
  {
   "cell_type": "code",
   "execution_count": 43,
   "metadata": {},
   "outputs": [],
   "source": [
    "# 필요 없는 열 삭제\n",
    "trade_df.drop('Unnamed: 0', axis = 1, inplace = True)\n",
    "edu_df.drop('Unnamed: 0', axis = 1, inplace = True)\n",
    "cons_df.drop('Unnamed: 0', axis = 1, inplace = True)"
   ]
  },
  {
   "cell_type": "code",
   "execution_count": 4,
   "metadata": {},
   "outputs": [],
   "source": [
    "# 회사 열을 인덱스로 설정하기\n",
    "trade_df.set_index('회사', inplace = True)\n",
    "edu_df.set_index('회사', inplace = True)\n",
    "cons_df.set_index('회사', inplace = True)"
   ]
  },
  {
   "cell_type": "code",
   "execution_count": 46,
   "metadata": {},
   "outputs": [],
   "source": [
    "# 중복된 데이터 삭제\n",
    "trade_df.drop_duplicates(['요약','장점','단점','경영진에게 바라는 점'], inplace = True)\n",
    "edu_df.drop_duplicates(['요약','장점','단점','경영진에게 바라는 점'], inplace = True)\n",
    "cons_df.drop_duplicates(['요약','장점','단점','경영진에게 바라는 점'], inplace = True)"
   ]
  },
  {
   "cell_type": "code",
   "execution_count": 48,
   "metadata": {},
   "outputs": [],
   "source": [
    "# py-hanspell을 이용한 맞춤법 검사 함수 정의\n",
    "def spelling(df):\n",
    "    # [요약]부터 [경영진에게 바라는 점]까지\n",
    "    for col in df.columns[2:]:\n",
    "        for j in range(df.shape[0]):\n",
    "            try:\n",
    "                # 고칠 게 있으면 고치고 기존 데이터 대체\n",
    "                result_train = spell_checker.check(df[col][j])\n",
    "                df[col][j] = result_train.as_dict()['checked']\n",
    "            except:\n",
    "                # 없으면 pass\n",
    "                pass"
   ]
  },
  {
   "cell_type": "code",
   "execution_count": 49,
   "metadata": {},
   "outputs": [],
   "source": [
    "# 데이터 맞춤법 수정\n",
    "spelling(trade_df)\n",
    "spelling(edu_df)\n",
    "spelling(cons_df)"
   ]
  },
  {
   "cell_type": "code",
   "execution_count": 50,
   "metadata": {},
   "outputs": [],
   "source": [
    "# 지금까지 전처리 한 결과 엑셀 파일로 저장\n",
    "trade_df.to_excel(excel_writer = '유통_무역_운송_맞춤법.xlsx')\n",
    "edu_df.to_excel(excel_writer = '교육업_맞춤법.xlsx')\n",
    "cons_df.to_excel(excel_writer = '건설업_맞춤법.xlsx')"
   ]
  },
  {
   "cell_type": "code",
   "execution_count": 3,
   "metadata": {},
   "outputs": [],
   "source": [
    "# 데이터 불러오기\n",
    "trade_df = pd.read_excel('data/spelling/유통_무역_운송_전처리.xlsx')\n",
    "edu_df = pd.read_excel('data/spelling/교육업_전처리.xlsx')\n",
    "cons_df = pd.read_excel('data/spelling/건설업_전처리.xlsx')"
   ]
  },
  {
   "cell_type": "code",
   "execution_count": 7,
   "metadata": {},
   "outputs": [
    {
     "name": "stdout",
     "output_type": "stream",
     "text": [
      "날짜              0\n",
      "직무              0\n",
      "요약              0\n",
      "장점              5\n",
      "단점             33\n",
      "경영진에게 바라는 점     5\n",
      "dtype: int64\n",
      "날짜               0\n",
      "직무               0\n",
      "요약               4\n",
      "장점               4\n",
      "단점             108\n",
      "경영진에게 바라는 점      7\n",
      "dtype: int64\n",
      "날짜              0\n",
      "직무              0\n",
      "요약              2\n",
      "장점              3\n",
      "단점             27\n",
      "경영진에게 바라는 점    12\n",
      "dtype: int64\n"
     ]
    }
   ],
   "source": [
    "# null값 확인\n",
    "print(trade_df.isnull().sum())\n",
    "print(edu_df.isnull().sum())\n",
    "print(cons_df.isnull().sum())"
   ]
  },
  {
   "cell_type": "code",
   "execution_count": 6,
   "metadata": {},
   "outputs": [],
   "source": [
    "# null값 제거\n",
    "index = trade_df[trade_df['요약'].isnull()].index\n",
    "trade_df.drop(index, inplace = True)"
   ]
  },
  {
   "cell_type": "code",
   "execution_count": 210,
   "metadata": {},
   "outputs": [],
   "source": [
    "# 회사 열을 인덱스로 설정하기\n",
    "trade_df.set_index('회사', inplace = True)\n",
    "edu_df.set_index('회사', inplace = True)\n",
    "cons_df.set_index('회사', inplace = True)"
   ]
  },
  {
   "cell_type": "code",
   "execution_count": 211,
   "metadata": {},
   "outputs": [],
   "source": [
    "import re\n",
    "\n",
    "# 특수문자 제거 함수 정의\n",
    "def clean_text(df):\n",
    "    for col in df.columns[2:]:\n",
    "        for j in range(df.shape[0]):\n",
    "            df[col][j] = re.sub('[-=+,#/\\?:^$.@*\\\"~&%ㆍ!\\\\‘|\\(\\)\\[\\]\\<\\>`\\'…]', ' ', str(df[col][j]))"
   ]
  },
  {
   "cell_type": "code",
   "execution_count": 212,
   "metadata": {},
   "outputs": [],
   "source": [
    "# 특수문자 제거\n",
    "clean_text(cons_df)"
   ]
  },
  {
   "cell_type": "code",
   "execution_count": 213,
   "metadata": {},
   "outputs": [],
   "source": [
    "# 영어 제거 함수 정의\n",
    "def no_english(df):\n",
    "    for col in df.columns[2:]:\n",
    "        df[col] = df[col].str.replace(\"[^ㄱ-ㅎㅏ-ㅣ가-힇]\", \" \")"
   ]
  },
  {
   "cell_type": "code",
   "execution_count": 214,
   "metadata": {},
   "outputs": [],
   "source": [
    "# 영어 제거\n",
    "no_english(cons_df)"
   ]
  },
  {
   "cell_type": "code",
   "execution_count": 218,
   "metadata": {},
   "outputs": [],
   "source": [
    "# mecab 토큰화 및 불용어 처리\n",
    "mecab = Mecab()\n",
    "stopwords = ['은', '는', '이', '가', '도', '다', '의', '한', '에', '게', '하', '고', '을', '를', '인', '듯', '과', '와', '네', '들', '듯', '지', '임', '하다', '했다']\n",
    "\n",
    "cons_df['요약토큰화'] = cons_df['요약'].apply(mecab.morphs)\n",
    "cons_df['요약토큰화'] = cons_df['요약토큰화'].apply(lambda x: [item for item in x if item not in stopwords])"
   ]
  },
  {
   "cell_type": "code",
   "execution_count": 207,
   "metadata": {},
   "outputs": [],
   "source": [
    "# Okt 토큰화 및 불용어 처리\n",
    "okt = Okt()\n",
    "\n",
    "cons_df['요약토큰화'] = cons_df['요약'].apply(okt.morphs)\n",
    "cons_df['요약토큰화'] = cons_df['요약토큰화'].apply(lambda x: [item for item in x if item not in stopwords])"
   ]
  },
  {
   "cell_type": "code",
   "execution_count": 63,
   "metadata": {},
   "outputs": [],
   "source": [
    "# Kkma 토큰화 및 불용어 처리\n",
    "kkm = Kkma()\n",
    "\n",
    "cons_df['요약토큰화'] = cons_df['요약'].apply(kkm.morphs)\n",
    "cons_df['요약토큰화'] = cons_df['요약토큰화'].apply(lambda x: [item for item in x if item not in stopwords])"
   ]
  },
  {
   "cell_type": "code",
   "execution_count": 66,
   "metadata": {},
   "outputs": [],
   "source": [
    "# Komoran 토큰화 및 불용어 처리\n",
    "kom = Komoran()\n",
    "\n",
    "cons_df['요약토큰화'] = cons_df['요약'].apply(kom.morphs)\n",
    "cons_df['요약토큰화'] = cons_df['요약토큰화'].apply(lambda x: [item for item in x if item not in stopwords])"
   ]
  },
  {
   "cell_type": "code",
   "execution_count": 224,
   "metadata": {},
   "outputs": [],
   "source": [
    "cons_df.to_excel(excel_writer = '건설업_mecab.xlsx')"
   ]
  },
  {
   "cell_type": "code",
   "execution_count": 8,
   "metadata": {},
   "outputs": [],
   "source": [
    "# mecab 토큰화 및 불용어 처리\n",
    "mecab = Mecab()\n",
    "from nltk.corpus import stopwords\n",
    "from nltk.tokenize import word_tokenize\n",
    "\n",
    "korean_stopwords_path='./stopword_수정.txt'\n",
    "\n",
    "# 텍스트 파일 오픈\n",
    "with open(korean_stopwords_path,encoding='utf-8') as f:\n",
    "    stopwords=f.readlines()\n",
    "stopwords=[x.strip() for x in stopwords]"
   ]
  },
  {
   "cell_type": "code",
   "execution_count": 9,
   "metadata": {},
   "outputs": [],
   "source": [
    "trade_df['요약토큰화'] = trade_df['요약'].apply(mecab.morphs)\n",
    "trade_df['요약토큰화'] = trade_df['요약토큰화'].apply(lambda x: [item for item in x if item not in stopwords])"
   ]
  },
  {
   "cell_type": "code",
   "execution_count": null,
   "metadata": {},
   "outputs": [],
   "source": []
  }
 ],
 "metadata": {
  "kernelspec": {
   "display_name": "Python 3",
   "language": "python",
   "name": "python3"
  },
  "language_info": {
   "codemirror_mode": {
    "name": "ipython",
    "version": 3
   },
   "file_extension": ".py",
   "mimetype": "text/x-python",
   "name": "python",
   "nbconvert_exporter": "python",
   "pygments_lexer": "ipython3",
   "version": "3.8.3"
  }
 },
 "nbformat": 4,
 "nbformat_minor": 4
}
