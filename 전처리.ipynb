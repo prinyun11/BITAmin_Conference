{
 "cells": [
  {
   "cell_type": "code",
   "execution_count": 2,
   "metadata": {},
   "outputs": [],
   "source": [
    "import pandas as pd\n",
    "import numpy as np\n",
    "import matplotlib.pyplot as plt\n",
    "import seaborn as sns\n",
    "%matplotlib inline\n",
    "from konlpy.tag import Kkma, Komoran, Okt, Mecab\n",
    "from tensorflow.keras.preprocessing.text import Tokenizer\n",
    "from tensorflow.keras.preprocessing.sequence import pad_sequences\n",
    "from hanspell import spell_checker"
   ]
  },
  {
   "cell_type": "code",
   "execution_count": 42,
   "metadata": {},
   "outputs": [],
   "source": [
    "# 데이터 불러오기\n",
    "trade_df = pd.read_excel('유통_무역_운송.xls')\n",
    "edu_df = pd.read_excel('교육업.xls')\n",
    "cons_df = pd.read_excel('건설업.xls')"
   ]
  },
  {
   "cell_type": "code",
   "execution_count": 43,
   "metadata": {},
   "outputs": [],
   "source": [
    "# 필요 없는 열 삭제\n",
    "trade_df.drop('Unnamed: 0', axis = 1, inplace = True)\n",
    "edu_df.drop('Unnamed: 0', axis = 1, inplace = True)\n",
    "cons_df.drop('Unnamed: 0', axis = 1, inplace = True)"
   ]
  },
  {
   "cell_type": "code",
   "execution_count": 44,
   "metadata": {},
   "outputs": [],
   "source": [
    "# 회사 열을 인덱스로 설정하기\n",
    "trade_df.set_index('회사', inplace = True)\n",
    "edu_df.set_index('회사', inplace = True)\n",
    "cons_df.set_index('회사', inplace = True)"
   ]
  },
  {
   "cell_type": "code",
   "execution_count": 46,
   "metadata": {},
   "outputs": [],
   "source": [
    "# 중복된 데이터 삭제\n",
    "trade_df.drop_duplicates(['요약','장점','단점','경영진에게 바라는 점'], inplace = True)\n",
    "edu_df.drop_duplicates(['요약','장점','단점','경영진에게 바라는 점'], inplace = True)\n",
    "cons_df.drop_duplicates(['요약','장점','단점','경영진에게 바라는 점'], inplace = True)"
   ]
  },
  {
   "cell_type": "code",
   "execution_count": 48,
   "metadata": {},
   "outputs": [],
   "source": [
    "# py-hanspell을 이용한 맞춤법 검사 함수 정의\n",
    "def spelling(df):\n",
    "    # [요약]부터 [경영진에게 바라는 점]까지\n",
    "    for col in df.columns[2:]:\n",
    "        for j in range(df.shape[0]):\n",
    "            try:\n",
    "                # 고칠 게 있으면 고치고 기존 데이터 대체\n",
    "                result_train = spell_checker.check(df[col][j])\n",
    "                df[col][j] = result_train.as_dict()['checked']\n",
    "            except:\n",
    "                # 없으면 pass\n",
    "                pass"
   ]
  },
  {
   "cell_type": "code",
   "execution_count": 49,
   "metadata": {},
   "outputs": [],
   "source": [
    "# 데이터 맞춤법 수정\n",
    "spelling(trade_df)\n",
    "spelling(edu_df)\n",
    "spelling(cons_df)"
   ]
  },
  {
   "cell_type": "code",
   "execution_count": 50,
   "metadata": {},
   "outputs": [],
   "source": [
    "# 지금까지 전처리 한 결과 엑셀 파일로 저장\n",
    "trade_df.to_excel(excel_writer = '유통_무역_운송_맞춤법.xlsx')\n",
    "edu_df.to_excel(excel_writer = '교육업_맞춤법.xlsx')\n",
    "cons_df.to_excel(excel_writer = '건설업_맞춤법.xlsx')"
   ]
  },
  {
   "cell_type": "code",
   "execution_count": 209,
   "metadata": {},
   "outputs": [],
   "source": [
    "# 데이터 불러오기\n",
    "trade_df = pd.read_excel('data/spelling/유통_무역_운송_맞춤법.xlsx')\n",
    "edu_df = pd.read_excel('data/spelling/교육업_맞춤법.xlsx')\n",
    "cons_df = pd.read_excel('data/spelling/건설업_맞춤법.xlsx')"
   ]
  },
  {
   "cell_type": "code",
   "execution_count": 223,
   "metadata": {},
   "outputs": [
    {
     "name": "stdout",
     "output_type": "stream",
     "text": [
      "날짜             0\n",
      "직무             0\n",
      "요약             0\n",
      "장점             0\n",
      "단점             0\n",
      "경영진에게 바라는 점    0\n",
      "dtype: int64\n",
      "날짜             0\n",
      "직무             0\n",
      "요약             0\n",
      "장점             0\n",
      "단점             0\n",
      "경영진에게 바라는 점    0\n",
      "dtype: int64\n",
      "날짜             0\n",
      "직무             0\n",
      "요약             0\n",
      "장점             0\n",
      "단점             0\n",
      "경영진에게 바라는 점    0\n",
      "요약토큰화          0\n",
      "dtype: int64\n"
     ]
    }
   ],
   "source": [
    "# null값 확인\n",
    "print(trade_df.isnull().sum())\n",
    "print(edu_df.isnull().sum())\n",
    "print(cons_df.isnull().sum())"
   ]
  },
  {
   "cell_type": "code",
   "execution_count": null,
   "metadata": {},
   "outputs": [],
   "source": [
    "# null값 제거\n",
    "index = trade_df[trade_df['경영진에게 바라는 점'].isnull()].index\n",
    "trade_df.drop(index, inplace = True)"
   ]
  },
  {
   "cell_type": "code",
   "execution_count": 210,
   "metadata": {},
   "outputs": [],
   "source": [
    "# 회사 열을 인덱스로 설정하기\n",
    "trade_df.set_index('회사', inplace = True)\n",
    "edu_df.set_index('회사', inplace = True)\n",
    "cons_df.set_index('회사', inplace = True)"
   ]
  },
  {
   "cell_type": "code",
   "execution_count": 211,
   "metadata": {},
   "outputs": [],
   "source": [
    "import re\n",
    "\n",
    "# 특수문자 제거 함수 정의\n",
    "def clean_text(df):\n",
    "    for col in df.columns[2:]:\n",
    "        for j in range(df.shape[0]):\n",
    "            df[col][j] = re.sub('[-=+,#/\\?:^$.@*\\\"~&%ㆍ!\\\\‘|\\(\\)\\[\\]\\<\\>`\\'…]', ' ', str(df[col][j]))"
   ]
  },
  {
   "cell_type": "code",
   "execution_count": 212,
   "metadata": {},
   "outputs": [],
   "source": [
    "# 특수문자 제거\n",
    "clean_text(cons_df)"
   ]
  },
  {
   "cell_type": "code",
   "execution_count": 213,
   "metadata": {},
   "outputs": [],
   "source": [
    "# 영어 제거 함수 정의\n",
    "def no_english(df):\n",
    "    for col in df.columns[2:]:\n",
    "        df[col] = df[col].str.replace(\"[^ㄱ-ㅎㅏ-ㅣ가-힇]\", \" \")"
   ]
  },
  {
   "cell_type": "code",
   "execution_count": 214,
   "metadata": {},
   "outputs": [],
   "source": [
    "# 영어 제거\n",
    "no_english(cons_df)"
   ]
  },
  {
   "cell_type": "code",
   "execution_count": 218,
   "metadata": {},
   "outputs": [],
   "source": [
    "# mecab 토큰화 및 불용어 처리\n",
    "mecab = Mecab()\n",
    "stopwords = ['은', '는', '이', '가', '도', '다', '의', '한', '에', '게', '하', '고', '을', '를', '인', '듯', '과', '와', '네', '들', '듯', '지', '임', '하다', '했다']\n",
    "\n",
    "cons_df['요약토큰화'] = cons_df['요약'].apply(mecab.morphs)\n",
    "cons_df['요약토큰화'] = cons_df['요약토큰화'].apply(lambda x: [item for item in x if item not in stopwords])"
   ]
  },
  {
   "cell_type": "code",
   "execution_count": 207,
   "metadata": {},
   "outputs": [],
   "source": [
    "# Okt 토큰화 및 불용어 처리\n",
    "okt = Okt()\n",
    "\n",
    "cons_df['요약토큰화'] = cons_df['요약'].apply(okt.morphs)\n",
    "cons_df['요약토큰화'] = cons_df['요약토큰화'].apply(lambda x: [item for item in x if item not in stopwords])"
   ]
  },
  {
   "cell_type": "code",
   "execution_count": 63,
   "metadata": {},
   "outputs": [],
   "source": [
    "# Kkma 토큰화 및 불용어 처리\n",
    "kkm = Kkma()\n",
    "\n",
    "cons_df['요약토큰화'] = cons_df['요약'].apply(kkm.morphs)\n",
    "cons_df['요약토큰화'] = cons_df['요약토큰화'].apply(lambda x: [item for item in x if item not in stopwords])"
   ]
  },
  {
   "cell_type": "code",
   "execution_count": 66,
   "metadata": {},
   "outputs": [],
   "source": [
    "# Komoran 토큰화 및 불용어 처리\n",
    "kom = Komoran()\n",
    "\n",
    "cons_df['요약토큰화'] = cons_df['요약'].apply(kom.morphs)\n",
    "cons_df['요약토큰화'] = cons_df['요약토큰화'].apply(lambda x: [item for item in x if item not in stopwords])"
   ]
  },
  {
   "cell_type": "code",
   "execution_count": 224,
   "metadata": {},
   "outputs": [],
   "source": [
    "cons_df.to_excel(excel_writer = '건설업_mecab.xlsx')"
   ]
  },
  {
   "cell_type": "code",
   "execution_count": null,
   "metadata": {},
   "outputs": [],
   "source": []
  }
 ],
 "metadata": {
  "kernelspec": {
   "display_name": "Python 3",
   "language": "python",
   "name": "python3"
  },
  "language_info": {
   "codemirror_mode": {
    "name": "ipython",
    "version": 3
   },
   "file_extension": ".py",
   "mimetype": "text/x-python",
   "name": "python",
   "nbconvert_exporter": "python",
   "pygments_lexer": "ipython3",
   "version": "3.8.3"
  }
 },
 "nbformat": 4,
 "nbformat_minor": 4
}
