{
 "cells": [
  {
   "cell_type": "code",
   "execution_count": 1,
   "metadata": {},
   "outputs": [],
   "source": [
    "import pandas as pd\n",
    "import numpy as np\n",
    "import re\n",
    "from hanspell import spell_checker\n",
    "from konlpy.tag import Mecab\n",
    "import konlpy"
   ]
  },
  {
   "cell_type": "code",
   "execution_count": 8,
   "metadata": {},
   "outputs": [],
   "source": [
    "trade_df = pd.read_excel('data/crawling/유통_무역_운송.xls')\n",
    "edu_df = pd.read_excel('data/crawling/교육업.xls')\n",
    "cons_df = pd.read_excel('data/crawling/건설업.xls')"
   ]
  },
  {
   "cell_type": "code",
   "execution_count": 9,
   "metadata": {},
   "outputs": [],
   "source": [
    "trade_df.drop('Unnamed: 0', axis = 1, inplace = True)\n",
    "edu_df.drop('Unnamed: 0', axis = 1, inplace = True)\n",
    "cons_df.drop('Unnamed: 0', axis = 1, inplace = True)"
   ]
  },
  {
   "cell_type": "code",
   "execution_count": 10,
   "metadata": {},
   "outputs": [],
   "source": [
    "trade_df.set_index('회사', inplace = True)\n",
    "edu_df.set_index('회사', inplace = True)\n",
    "cons_df.set_index('회사', inplace = True)"
   ]
  },
  {
   "cell_type": "code",
   "execution_count": 11,
   "metadata": {},
   "outputs": [],
   "source": [
    "trade_df.drop_duplicates(['요약','장점','단점','경영진에게 바라는 점'], inplace = True)\n",
    "edu_df.drop_duplicates(['요약','장점','단점','경영진에게 바라는 점'], inplace = True)\n",
    "cons_df.drop_duplicates(['요약','장점','단점','경영진에게 바라는 점'], inplace = True)"
   ]
  },
  {
   "cell_type": "code",
   "execution_count": 34,
   "metadata": {
    "scrolled": true
   },
   "outputs": [
    {
     "data": {
      "text/plain": [
       "날짜             0\n",
       "직무             0\n",
       "요약             0\n",
       "장점             0\n",
       "단점             0\n",
       "경영진에게 바라는 점    0\n",
       "dtype: int64"
      ]
     },
     "execution_count": 34,
     "metadata": {},
     "output_type": "execute_result"
    }
   ],
   "source": [
    "cons_df.isnull().sum()"
   ]
  },
  {
   "cell_type": "code",
   "execution_count": 33,
   "metadata": {},
   "outputs": [],
   "source": [
    "# null값 제거\n",
    "index = cons_df[cons_df['경영진에게 바라는 점'].isnull()].index\n",
    "cons_df.drop(index, inplace = True)"
   ]
  },
  {
   "cell_type": "code",
   "execution_count": 53,
   "metadata": {},
   "outputs": [],
   "source": [
    "# 영어와 한글만 남기는 함수 정의\n",
    "def clean_text(df):\n",
    "    for col in df.columns[2:]:\n",
    "        df[col] = df[col].str.replace(\"[^가-힇]\", \" \")"
   ]
  },
  {
   "cell_type": "code",
   "execution_count": 12,
   "metadata": {},
   "outputs": [],
   "source": [
    "# py-hanspell을 이용한 맞춤법 검사 함수 정의\n",
    "def spelling(df):\n",
    "    # [요약]부터 [경영진에게 바라는 점]까지\n",
    "    for col in df.columns[2:]:\n",
    "        for j in range(df.shape[0]):\n",
    "            try:\n",
    "                # 고칠 게 있으면 고치고 기존 데이터 대체\n",
    "                result_train = spell_checker.check(df[col][j])\n",
    "                df[col][j] = result_train.as_dict()['checked']\n",
    "            except:\n",
    "                # 없으면 pass\n",
    "                pass"
   ]
  },
  {
   "cell_type": "code",
   "execution_count": 54,
   "metadata": {},
   "outputs": [],
   "source": [
    "clean_text(cons_df)"
   ]
  },
  {
   "cell_type": "code",
   "execution_count": 22,
   "metadata": {},
   "outputs": [],
   "source": [
    "spelling(cons_df)"
   ]
  },
  {
   "cell_type": "code",
   "execution_count": 23,
   "metadata": {},
   "outputs": [],
   "source": [
    "cons_df.to_excel(excel_writer = '건설업_전처리.xlsx')"
   ]
  },
  {
   "cell_type": "code",
   "execution_count": 6,
   "metadata": {},
   "outputs": [],
   "source": [
    "# mecab 토큰화 및 불용어 처리\n",
    "mecab = Mecab()\n",
    "from nltk.corpus import stopwords\n",
    "from nltk.tokenize import word_tokenize\n",
    "\n",
    "korean_stopwords_path='./stopword_수정.txt'\n",
    "\n",
    "# 텍스트 파일 오픈\n",
    "with open(korean_stopwords_path,encoding='utf-8') as f:\n",
    "    stopwords=f.readlines()\n",
    "stopwords=[x.strip() for x in stopwords]"
   ]
  },
  {
   "cell_type": "code",
   "execution_count": 23,
   "metadata": {},
   "outputs": [],
   "source": [
    "def tokenize(df):\n",
    "    for col in df.columns[2:]:\n",
    "        df[col+'토큰화'] = df[col].apply(mecab.morphs)\n",
    "        df[col+'토큰화'] = df[col+'토큰화'].apply(lambda x: [item for item in x if item not in stopwords])"
   ]
  },
  {
   "cell_type": "code",
   "execution_count": 35,
   "metadata": {
    "scrolled": true
   },
   "outputs": [],
   "source": [
    "tokenize(cons_df)"
   ]
  },
  {
   "cell_type": "code",
   "execution_count": 36,
   "metadata": {},
   "outputs": [
    {
     "data": {
      "text/html": [
       "<div>\n",
       "<style scoped>\n",
       "    .dataframe tbody tr th:only-of-type {\n",
       "        vertical-align: middle;\n",
       "    }\n",
       "\n",
       "    .dataframe tbody tr th {\n",
       "        vertical-align: top;\n",
       "    }\n",
       "\n",
       "    .dataframe thead th {\n",
       "        text-align: right;\n",
       "    }\n",
       "</style>\n",
       "<table border=\"1\" class=\"dataframe\">\n",
       "  <thead>\n",
       "    <tr style=\"text-align: right;\">\n",
       "      <th></th>\n",
       "      <th>날짜</th>\n",
       "      <th>직무</th>\n",
       "      <th>요약</th>\n",
       "      <th>장점</th>\n",
       "      <th>단점</th>\n",
       "      <th>경영진에게 바라는 점</th>\n",
       "      <th>요약토큰화</th>\n",
       "      <th>장점토큰화</th>\n",
       "      <th>단점토큰화</th>\n",
       "      <th>경영진에게 바라는 점토큰화</th>\n",
       "    </tr>\n",
       "    <tr>\n",
       "      <th>회사</th>\n",
       "      <th></th>\n",
       "      <th></th>\n",
       "      <th></th>\n",
       "      <th></th>\n",
       "      <th></th>\n",
       "      <th></th>\n",
       "      <th></th>\n",
       "      <th></th>\n",
       "      <th></th>\n",
       "      <th></th>\n",
       "    </tr>\n",
       "  </thead>\n",
       "  <tbody>\n",
       "    <tr>\n",
       "      <th>한국토지주택공사</th>\n",
       "      <td>2021. 03</td>\n",
       "      <td>서비스/고객지원</td>\n",
       "      <td>\"적당한 연봉과 자기 삶을 지킬 수 있는 균형 잡힌 회사\"</td>\n",
       "      <td>공기업의 특성상 안정적인고 업무강도도 적당한 또한 사람들이 착함</td>\n",
       "      <td>공기업의 특성상 지방 또는 외곽쪽에서 근무하는 경우가 많음</td>\n",
       "      <td>외근의 경우억조 여자와 남자 모두에게 공평하면 좋겠습니다.</td>\n",
       "      <td>[\", 적당, 연봉, 자기, 삶, 지킬, 균형, 잡힌, 회사, \"]</td>\n",
       "      <td>[공기업, 특성, 상, 안정, 적, 인, 고, 업무, 강도, 적당, 사람, 착함]</td>\n",
       "      <td>[공기업, 특성, 상, 지방, 또는, 외곽, 쪽, 근무, 경우, 많, 음]</td>\n",
       "      <td>[외근, 경우, 억조, 여자, 남자, 모두, 공평, 면, 좋, 겠, .]</td>\n",
       "    </tr>\n",
       "    <tr>\n",
       "      <th>한국토지주택공사</th>\n",
       "      <td>2021. 03</td>\n",
       "      <td>인사/총무</td>\n",
       "      <td>\"딱 일하려고 모인 사람들의 집단이었다\"</td>\n",
       "      <td>휴가에 대한게 눈치보지 않고 자유로워서 좋았다 카페, 사내식당 등이 좋다</td>\n",
       "      <td>승진에 대한 경쟁을 하려는게 보인다. 윗사람 아랫사람 눈치 보임</td>\n",
       "      <td>터지는 문제들을 잘 해결하길. 앞으로 더 반성하길.</td>\n",
       "      <td>[\", 려고, 모인, 사람, 집단, 었, 다, \"]</td>\n",
       "      <td>[휴가, 대한, 게, 눈치보, 고, 자유, 로워서, 좋, 았, 다, 카페, ,, 사...</td>\n",
       "      <td>[승진, 대한, 경쟁, 려는, 게, 보인다, ., 윗사람, 아랫사람, 눈치, 보임]</td>\n",
       "      <td>[터지, 문제, 해결, 길, ., 앞, 더, 반성, 길, .]</td>\n",
       "    </tr>\n",
       "    <tr>\n",
       "      <th>한국토지주택공사</th>\n",
       "      <td>2021. 03</td>\n",
       "      <td>인사/총무</td>\n",
       "      <td>\"안정적인듯 안정적이지 않은 조직. 기존 4,50대 직원들과 신입 20대 직원들의 ...</td>\n",
       "      <td>직원들을 위한 복지제도가 잘되어있음. 토목, 건축 전공자들에게는전공을 살릴수 있는 ...</td>\n",
       "      <td>순환근무로 인해서 짧으면 1년 길면 3년 사이에 계속 부서를 옮겨야한다. 부서 이동...</td>\n",
       "      <td>기본적인 마인드가 의전을 중요시 여기는 등 매우 수직적임. 시각을 좀 더 다양하게 ...</td>\n",
       "      <td>[\", 안정, 적, 인, 듯, 안정, 적, 조직, ., 기존, 4, ,, 50, 대...</td>\n",
       "      <td>[직원, 위한, 복지, 제도, 음, ., 토목, ,, 건축, 전공, 전공, 살릴, ...</td>\n",
       "      <td>[순환, 근무, 인해서, 짧, 으면, 1, 길, 면, 3, 사이, 계속, 부서, 옮...</td>\n",
       "      <td>[기본, 적, 인, 마인드, 의전, 중요시, 매우, 수직, 적, 임, ., 더, 다...</td>\n",
       "    </tr>\n",
       "    <tr>\n",
       "      <th>한국토지주택공사</th>\n",
       "      <td>2021. 03</td>\n",
       "      <td>경영/기획/컨설팅</td>\n",
       "      <td>\"정말 좋은 회사였습니다 동료들도 너무 좋고 복지도 좋았어요\"</td>\n",
       "      <td>연차 눈치 안보고 쓰기 가능, 분위기 자유로움, 동료들 좋음</td>\n",
       "      <td>발령날 때 전국구다보니 가족끼리 떨어져 사는 경우가 많이보였음</td>\n",
       "      <td>신입사원 많이 뽑아주시면 감사하겠습니다..인턴이었지만 정규직입사 원해요</td>\n",
       "      <td>[\", 정말, 좋, 회사, 였, 동료, 너무, 좋, 고, 복지, 좋, 았, 어요, \"]</td>\n",
       "      <td>[연차, 눈치, 안, 고, 쓰, 기, 가능, ,, 분위기, 자유, 로움, ,, 동료...</td>\n",
       "      <td>[발령, 날, 전국, 구다보, 니, 가족, 끼리, 떨어져, 사, 경우, 많이, 보였...</td>\n",
       "      <td>[신입, 사원, 많이, 뽑, 시, 면, 감사, 겠, ., ., 인턴, 었, 정규직,...</td>\n",
       "    </tr>\n",
       "    <tr>\n",
       "      <th>한국토지주택공사</th>\n",
       "      <td>2021. 03</td>\n",
       "      <td>경영/기획/컨설팅</td>\n",
       "      <td>\"가족같은 분위기로 안정적으로 오래 다닐 수 있는 회사.\"</td>\n",
       "      <td>안정적이다. 돈 꼬박꼬박 준다. 가족적이다. 가늘고 길게 다니고 싶은 사람에게 좋다.</td>\n",
       "      <td>진취적인 성향의 사람이라면 잘 맞지 않을 수 있습이다.</td>\n",
       "      <td>공기업이지만 성과에 따른 차등이 있으면 좋겠습니다. 의욕이 딸어져요.</td>\n",
       "      <td>[\", 가족, 분위기, 안정, 적, 오래, 다닐, 회사, ., \"]</td>\n",
       "      <td>[안정, 적, 다, ., 돈, 꼬박꼬박, 준다, ., 가족, 적, 다, ., 가늘,...</td>\n",
       "      <td>[진취, 적, 인, 성향, 사람, 라면, 맞, 습, 다, .]</td>\n",
       "      <td>[공기업, 성과, 따른, 차등, 으면, 좋, 겠, ., 욕, 딸, 져요, .]</td>\n",
       "    </tr>\n",
       "  </tbody>\n",
       "</table>\n",
       "</div>"
      ],
      "text/plain": [
       "                날짜         직무  \\\n",
       "회사                              \n",
       "한국토지주택공사  2021. 03   서비스/고객지원   \n",
       "한국토지주택공사  2021. 03      인사/총무   \n",
       "한국토지주택공사  2021. 03      인사/총무   \n",
       "한국토지주택공사  2021. 03  경영/기획/컨설팅   \n",
       "한국토지주택공사  2021. 03  경영/기획/컨설팅   \n",
       "\n",
       "                                                         요약  \\\n",
       "회사                                                            \n",
       "한국토지주택공사                   \"적당한 연봉과 자기 삶을 지킬 수 있는 균형 잡힌 회사\"   \n",
       "한국토지주택공사                             \"딱 일하려고 모인 사람들의 집단이었다\"   \n",
       "한국토지주택공사  \"안정적인듯 안정적이지 않은 조직. 기존 4,50대 직원들과 신입 20대 직원들의 ...   \n",
       "한국토지주택공사                 \"정말 좋은 회사였습니다 동료들도 너무 좋고 복지도 좋았어요\"   \n",
       "한국토지주택공사                   \"가족같은 분위기로 안정적으로 오래 다닐 수 있는 회사.\"   \n",
       "\n",
       "                                                         장점  \\\n",
       "회사                                                            \n",
       "한국토지주택공사                공기업의 특성상 안정적인고 업무강도도 적당한 또한 사람들이 착함   \n",
       "한국토지주택공사           휴가에 대한게 눈치보지 않고 자유로워서 좋았다 카페, 사내식당 등이 좋다   \n",
       "한국토지주택공사  직원들을 위한 복지제도가 잘되어있음. 토목, 건축 전공자들에게는전공을 살릴수 있는 ...   \n",
       "한국토지주택공사                  연차 눈치 안보고 쓰기 가능, 분위기 자유로움, 동료들 좋음   \n",
       "한국토지주택공사    안정적이다. 돈 꼬박꼬박 준다. 가족적이다. 가늘고 길게 다니고 싶은 사람에게 좋다.   \n",
       "\n",
       "                                                         단점  \\\n",
       "회사                                                            \n",
       "한국토지주택공사                   공기업의 특성상 지방 또는 외곽쪽에서 근무하는 경우가 많음   \n",
       "한국토지주택공사                승진에 대한 경쟁을 하려는게 보인다. 윗사람 아랫사람 눈치 보임   \n",
       "한국토지주택공사  순환근무로 인해서 짧으면 1년 길면 3년 사이에 계속 부서를 옮겨야한다. 부서 이동...   \n",
       "한국토지주택공사                 발령날 때 전국구다보니 가족끼리 떨어져 사는 경우가 많이보였음   \n",
       "한국토지주택공사                     진취적인 성향의 사람이라면 잘 맞지 않을 수 있습이다.   \n",
       "\n",
       "                                                경영진에게 바라는 점  \\\n",
       "회사                                                            \n",
       "한국토지주택공사                   외근의 경우억조 여자와 남자 모두에게 공평하면 좋겠습니다.   \n",
       "한국토지주택공사                       터지는 문제들을 잘 해결하길. 앞으로 더 반성하길.   \n",
       "한국토지주택공사  기본적인 마인드가 의전을 중요시 여기는 등 매우 수직적임. 시각을 좀 더 다양하게 ...   \n",
       "한국토지주택공사            신입사원 많이 뽑아주시면 감사하겠습니다..인턴이었지만 정규직입사 원해요   \n",
       "한국토지주택공사             공기업이지만 성과에 따른 차등이 있으면 좋겠습니다. 의욕이 딸어져요.   \n",
       "\n",
       "                                                      요약토큰화  \\\n",
       "회사                                                            \n",
       "한국토지주택공사              [\", 적당, 연봉, 자기, 삶, 지킬, 균형, 잡힌, 회사, \"]   \n",
       "한국토지주택공사                       [\", 려고, 모인, 사람, 집단, 었, 다, \"]   \n",
       "한국토지주택공사  [\", 안정, 적, 인, 듯, 안정, 적, 조직, ., 기존, 4, ,, 50, 대...   \n",
       "한국토지주택공사   [\", 정말, 좋, 회사, 였, 동료, 너무, 좋, 고, 복지, 좋, 았, 어요, \"]   \n",
       "한국토지주택공사              [\", 가족, 분위기, 안정, 적, 오래, 다닐, 회사, ., \"]   \n",
       "\n",
       "                                                      장점토큰화  \\\n",
       "회사                                                            \n",
       "한국토지주택공사      [공기업, 특성, 상, 안정, 적, 인, 고, 업무, 강도, 적당, 사람, 착함]   \n",
       "한국토지주택공사  [휴가, 대한, 게, 눈치보, 고, 자유, 로워서, 좋, 았, 다, 카페, ,, 사...   \n",
       "한국토지주택공사  [직원, 위한, 복지, 제도, 음, ., 토목, ,, 건축, 전공, 전공, 살릴, ...   \n",
       "한국토지주택공사  [연차, 눈치, 안, 고, 쓰, 기, 가능, ,, 분위기, 자유, 로움, ,, 동료...   \n",
       "한국토지주택공사  [안정, 적, 다, ., 돈, 꼬박꼬박, 준다, ., 가족, 적, 다, ., 가늘,...   \n",
       "\n",
       "                                                      단점토큰화  \\\n",
       "회사                                                            \n",
       "한국토지주택공사          [공기업, 특성, 상, 지방, 또는, 외곽, 쪽, 근무, 경우, 많, 음]   \n",
       "한국토지주택공사     [승진, 대한, 경쟁, 려는, 게, 보인다, ., 윗사람, 아랫사람, 눈치, 보임]   \n",
       "한국토지주택공사  [순환, 근무, 인해서, 짧, 으면, 1, 길, 면, 3, 사이, 계속, 부서, 옮...   \n",
       "한국토지주택공사  [발령, 날, 전국, 구다보, 니, 가족, 끼리, 떨어져, 사, 경우, 많이, 보였...   \n",
       "한국토지주택공사                 [진취, 적, 인, 성향, 사람, 라면, 맞, 습, 다, .]   \n",
       "\n",
       "                                             경영진에게 바라는 점토큰화  \n",
       "회사                                                           \n",
       "한국토지주택공사           [외근, 경우, 억조, 여자, 남자, 모두, 공평, 면, 좋, 겠, .]  \n",
       "한국토지주택공사                 [터지, 문제, 해결, 길, ., 앞, 더, 반성, 길, .]  \n",
       "한국토지주택공사  [기본, 적, 인, 마인드, 의전, 중요시, 매우, 수직, 적, 임, ., 더, 다...  \n",
       "한국토지주택공사  [신입, 사원, 많이, 뽑, 시, 면, 감사, 겠, ., ., 인턴, 었, 정규직,...  \n",
       "한국토지주택공사        [공기업, 성과, 따른, 차등, 으면, 좋, 겠, ., 욕, 딸, 져요, .]  "
      ]
     },
     "execution_count": 36,
     "metadata": {},
     "output_type": "execute_result"
    }
   ],
   "source": [
    "cons_df.head()"
   ]
  },
  {
   "cell_type": "code",
   "execution_count": 37,
   "metadata": {},
   "outputs": [],
   "source": [
    "trade_df.to_excel(excel_writer = '유통_무역_운송_전처리.xlsx')\n",
    "edu_df.to_excel(excel_writer = '교육업_전처리.xlsx')\n",
    "cons_df.to_excel(excel_writer = '건설업_전처리.xlsx')"
   ]
  },
  {
   "cell_type": "code",
   "execution_count": null,
   "metadata": {},
   "outputs": [],
   "source": []
  }
 ],
 "metadata": {
  "kernelspec": {
   "display_name": "Python 3",
   "language": "python",
   "name": "python3"
  },
  "language_info": {
   "codemirror_mode": {
    "name": "ipython",
    "version": 3
   },
   "file_extension": ".py",
   "mimetype": "text/x-python",
   "name": "python",
   "nbconvert_exporter": "python",
   "pygments_lexer": "ipython3",
   "version": "3.8.3"
  }
 },
 "nbformat": 4,
 "nbformat_minor": 4
}
