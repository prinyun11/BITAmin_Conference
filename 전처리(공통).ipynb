{
 "cells": [
  {
   "cell_type": "code",
   "execution_count": 3,
   "metadata": {},
   "outputs": [],
   "source": [
    "import pandas as pd\n",
    "import numpy as np\n",
    "import re\n",
    "from hanspell import spell_checker\n",
    "from konlpy.tag import Mecab\n",
    "import konlpy"
   ]
  },
  {
   "cell_type": "code",
   "execution_count": 4,
   "metadata": {},
   "outputs": [],
   "source": [
    "trade_df = pd.read_excel('data/crawling/유통_무역_운송.xls')\n",
    "edu_df = pd.read_excel('data/crawling/교육업.xls')\n",
    "cons_df = pd.read_excel('data/crawling/건설업.xls')"
   ]
  },
  {
   "cell_type": "code",
   "execution_count": 7,
   "metadata": {},
   "outputs": [],
   "source": [
    "trade_df.drop('Unnamed: 0', axis = 1, inplace = True)\n",
    "edu_df.drop('Unnamed: 0', axis = 1, inplace = True)\n",
    "cons_df.drop('Unnamed: 0', axis = 1, inplace = True)"
   ]
  },
  {
   "cell_type": "code",
   "execution_count": 8,
   "metadata": {},
   "outputs": [],
   "source": [
    "trade_df.set_index('회사', inplace = True)\n",
    "edu_df.set_index('회사', inplace = True)\n",
    "cons_df.set_index('회사', inplace = True)"
   ]
  },
  {
   "cell_type": "code",
   "execution_count": 10,
   "metadata": {},
   "outputs": [],
   "source": [
    "trade_df.drop_duplicates(['요약','장점','단점','경영진에게 바라는 점'], inplace = True)\n",
    "edu_df.drop_duplicates(['요약','장점','단점','경영진에게 바라는 점'], inplace = True)\n",
    "cons_df.drop_duplicates(['요약','장점','단점','경영진에게 바라는 점'], inplace = True)"
   ]
  },
  {
   "cell_type": "code",
   "execution_count": 11,
   "metadata": {},
   "outputs": [],
   "source": [
    "# 영어와 한글만 남기는 함수 정의\n",
    "def clean_text(df):\n",
    "    for col in df.columns[2:]:\n",
    "        df[col] = df[col].str.replace(\"[^a-zA-Z가-힇]\", \" \")"
   ]
  },
  {
   "cell_type": "code",
   "execution_count": 12,
   "metadata": {},
   "outputs": [],
   "source": [
    "# py-hanspell을 이용한 맞춤법 검사 함수 정의\n",
    "def spelling(df):\n",
    "    # [요약]부터 [경영진에게 바라는 점]까지\n",
    "    for col in df.columns[2:]:\n",
    "        for j in range(df.shape[0]):\n",
    "            try:\n",
    "                # 고칠 게 있으면 고치고 기존 데이터 대체\n",
    "                result_train = spell_checker.check(df[col][j])\n",
    "                df[col][j] = result_train.as_dict()['checked']\n",
    "            except:\n",
    "                # 없으면 pass\n",
    "                pass"
   ]
  },
  {
   "cell_type": "code",
   "execution_count": 17,
   "metadata": {},
   "outputs": [],
   "source": [
    "clean_text(cons_df)"
   ]
  },
  {
   "cell_type": "code",
   "execution_count": null,
   "metadata": {},
   "outputs": [],
   "source": [
    "spelling(trade_df)"
   ]
  },
  {
   "cell_type": "code",
   "execution_count": 26,
   "metadata": {},
   "outputs": [],
   "source": [
    "# mecab 토큰화 및 불용어 처리\n",
    "mecab = Mecab()\n",
    "from nltk.corpus import stopwords\n",
    "from nltk.tokenize import word_tokenize\n",
    "\n",
    "korean_stopwords_path='./stopword_수정.txt'\n",
    "\n",
    "# 텍스트 파일 오픈\n",
    "with open(korean_stopwords_path,encoding='utf-8') as f:\n",
    "    stopwords=f.readlines()\n",
    "stopwords=[x.strip() for x in stopwords]"
   ]
  },
  {
   "cell_type": "code",
   "execution_count": null,
   "metadata": {},
   "outputs": [],
   "source": [
    "df['요약토큰화'] = df['요약'].apply(mecab.morphs)\n",
    "df['요약토큰화'] = df['요약토큰화'].apply(lambda x: [item for item in x if item not in stopwords])"
   ]
  }
 ],
 "metadata": {
  "kernelspec": {
   "display_name": "Python 3",
   "language": "python",
   "name": "python3"
  },
  "language_info": {
   "codemirror_mode": {
    "name": "ipython",
    "version": 3
   },
   "file_extension": ".py",
   "mimetype": "text/x-python",
   "name": "python",
   "nbconvert_exporter": "python",
   "pygments_lexer": "ipython3",
   "version": "3.8.3"
  }
 },
 "nbformat": 4,
 "nbformat_minor": 4
}
